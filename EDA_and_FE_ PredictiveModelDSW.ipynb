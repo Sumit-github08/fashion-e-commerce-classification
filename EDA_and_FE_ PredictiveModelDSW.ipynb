{
 "cells": [
  {
   "cell_type": "markdown",
   "metadata": {
    "id": "LKyQami25WyL"
   },
   "source": [
    "**Coding challenge:** Which products will be successful?\n",
    "\n",
    "---\n",
    "\n",
    "**Task Summary** A fashion e-commerce company is planning its collections for the upcoming year. Therefore the company put together many potential products as candidates and now would like to estimate which products would be successful (top) or not (flop). To do so, you are provided with data of the past years’ top and flop products. This will allow you to create a small machine learning application (without an UI)."
   ]
  },
  {
   "cell_type": "markdown",
   "metadata": {
    "id": "9HdEx1zW5JCC"
   },
   "source": [
    "Columns:\n",
    "* item_no: Internal identifier for a past product or a product candidate for\n",
    "  the future.\n",
    "* category: Category of the product.\n",
    "* main_promotion: Main promotion that would be / was used to promote the product.\n",
    "* color: The main color of the product.\n",
    "* stars: Stars of reviews from a comparable product of a competitor (from 0 = very negative reviews to 5 = very positive reviews).\n",
    "* success_indicator: Indicator whether a product was successful (top) or not (flop) in the past. Only given for the historic data."
   ]
  },
  {
   "cell_type": "code",
   "execution_count": null,
   "metadata": {
    "colab": {
     "base_uri": "https://localhost:8080/"
    },
    "id": "2HI0fmQcPRI6",
    "outputId": "c8d7c48e-fbf6-4809-c273-f8dfbec54194"
   },
   "outputs": [
    {
     "name": "stdout",
     "output_type": "stream",
     "text": [
      "Drive already mounted at /content/drive; to attempt to forcibly remount, call drive.mount(\"/content/drive\", force_remount=True).\n"
     ]
    }
   ],
   "source": [
    "from google.colab import drive\n",
    "drive.mount('/content/drive')"
   ]
  },
  {
   "cell_type": "code",
   "execution_count": null,
   "metadata": {
    "id": "zGZwLSj05JrJ"
   },
   "outputs": [],
   "source": [
    "\n",
    "import pandas as pd\n",
    "import numpy as np\n",
    "import os\n",
    "import matplotlib.pyplot as plt\n",
    "import seaborn as sns"
   ]
  },
  {
   "cell_type": "code",
   "execution_count": null,
   "metadata": {
    "colab": {
     "base_uri": "https://localhost:8080/",
     "height": 206
    },
    "id": "qhonVdhP5v25",
    "outputId": "12fd9951-70ac-458f-c0dc-b2a9aedd7f68"
   },
   "outputs": [
    {
     "data": {
      "text/html": [
       "<div>\n",
       "<style scoped>\n",
       "    .dataframe tbody tr th:only-of-type {\n",
       "        vertical-align: middle;\n",
       "    }\n",
       "\n",
       "    .dataframe tbody tr th {\n",
       "        vertical-align: top;\n",
       "    }\n",
       "\n",
       "    .dataframe thead th {\n",
       "        text-align: right;\n",
       "    }\n",
       "</style>\n",
       "<table border=\"1\" class=\"dataframe\">\n",
       "  <thead>\n",
       "    <tr style=\"text-align: right;\">\n",
       "      <th></th>\n",
       "      <th>item_no</th>\n",
       "      <th>category</th>\n",
       "      <th>main_promotion</th>\n",
       "      <th>color</th>\n",
       "      <th>stars</th>\n",
       "      <th>success_indicator</th>\n",
       "    </tr>\n",
       "  </thead>\n",
       "  <tbody>\n",
       "    <tr>\n",
       "      <th>0</th>\n",
       "      <td>739157</td>\n",
       "      <td>Tunic</td>\n",
       "      <td>Catalog</td>\n",
       "      <td>Green</td>\n",
       "      <td>3.1</td>\n",
       "      <td>flop</td>\n",
       "    </tr>\n",
       "    <tr>\n",
       "      <th>1</th>\n",
       "      <td>591846</td>\n",
       "      <td>Hoodie</td>\n",
       "      <td>Category_Highlight</td>\n",
       "      <td>Red</td>\n",
       "      <td>1.5</td>\n",
       "      <td>flop</td>\n",
       "    </tr>\n",
       "    <tr>\n",
       "      <th>2</th>\n",
       "      <td>337574</td>\n",
       "      <td>Sweatshirt</td>\n",
       "      <td>Catalog</td>\n",
       "      <td>Red</td>\n",
       "      <td>4.4</td>\n",
       "      <td>top</td>\n",
       "    </tr>\n",
       "    <tr>\n",
       "      <th>3</th>\n",
       "      <td>401933</td>\n",
       "      <td>Polo-Shirt</td>\n",
       "      <td>Category_Highlight</td>\n",
       "      <td>Blue</td>\n",
       "      <td>3.1</td>\n",
       "      <td>flop</td>\n",
       "    </tr>\n",
       "    <tr>\n",
       "      <th>4</th>\n",
       "      <td>812151</td>\n",
       "      <td>Hoodie</td>\n",
       "      <td>Category_Highlight</td>\n",
       "      <td>Green</td>\n",
       "      <td>4.1</td>\n",
       "      <td>top</td>\n",
       "    </tr>\n",
       "  </tbody>\n",
       "</table>\n",
       "</div>"
      ],
      "text/plain": [
       "   item_no    category      main_promotion  color  stars success_indicator\n",
       "0   739157       Tunic             Catalog  Green    3.1              flop\n",
       "1   591846      Hoodie  Category_Highlight    Red    1.5              flop\n",
       "2   337574  Sweatshirt             Catalog    Red    4.4               top\n",
       "3   401933  Polo-Shirt  Category_Highlight   Blue    3.1              flop\n",
       "4   812151      Hoodie  Category_Highlight  Green    4.1               top"
      ]
     },
     "execution_count": 119,
     "metadata": {},
     "output_type": "execute_result"
    }
   ],
   "source": [
    "train = pd.read_csv(\"/content/drive/MyDrive/DSW Test/historic.csv\")\n",
    "test = pd.read_csv(\"/content/drive/MyDrive/DSW Test/prediction_input.csv\")\n",
    "train.head()"
   ]
  },
  {
   "cell_type": "code",
   "execution_count": null,
   "metadata": {
    "colab": {
     "base_uri": "https://localhost:8080/",
     "height": 206
    },
    "id": "jO9ojpIs53it",
    "outputId": "716a136e-05b7-434b-a113-6d22d7ea2667"
   },
   "outputs": [
    {
     "data": {
      "text/html": [
       "<div>\n",
       "<style scoped>\n",
       "    .dataframe tbody tr th:only-of-type {\n",
       "        vertical-align: middle;\n",
       "    }\n",
       "\n",
       "    .dataframe tbody tr th {\n",
       "        vertical-align: top;\n",
       "    }\n",
       "\n",
       "    .dataframe thead th {\n",
       "        text-align: right;\n",
       "    }\n",
       "</style>\n",
       "<table border=\"1\" class=\"dataframe\">\n",
       "  <thead>\n",
       "    <tr style=\"text-align: right;\">\n",
       "      <th></th>\n",
       "      <th>item_no</th>\n",
       "      <th>category</th>\n",
       "      <th>main_promotion</th>\n",
       "      <th>color</th>\n",
       "      <th>stars</th>\n",
       "    </tr>\n",
       "  </thead>\n",
       "  <tbody>\n",
       "    <tr>\n",
       "      <th>0</th>\n",
       "      <td>405901</td>\n",
       "      <td>Sweatshirt</td>\n",
       "      <td>Catalog</td>\n",
       "      <td>Blue</td>\n",
       "      <td>3.1</td>\n",
       "    </tr>\n",
       "    <tr>\n",
       "      <th>1</th>\n",
       "      <td>644275</td>\n",
       "      <td>Polo-Shirt</td>\n",
       "      <td>Frontpage_Header</td>\n",
       "      <td>Yellow</td>\n",
       "      <td>2.6</td>\n",
       "    </tr>\n",
       "    <tr>\n",
       "      <th>2</th>\n",
       "      <td>533070</td>\n",
       "      <td>Tunic</td>\n",
       "      <td>Catalog</td>\n",
       "      <td>Green</td>\n",
       "      <td>2.7</td>\n",
       "    </tr>\n",
       "    <tr>\n",
       "      <th>3</th>\n",
       "      <td>829436</td>\n",
       "      <td>Polo-Shirt</td>\n",
       "      <td>Catalog</td>\n",
       "      <td>Yellow</td>\n",
       "      <td>2.6</td>\n",
       "    </tr>\n",
       "    <tr>\n",
       "      <th>4</th>\n",
       "      <td>801722</td>\n",
       "      <td>Tunic</td>\n",
       "      <td>Catalog</td>\n",
       "      <td>Yellow</td>\n",
       "      <td>4.9</td>\n",
       "    </tr>\n",
       "  </tbody>\n",
       "</table>\n",
       "</div>"
      ],
      "text/plain": [
       "   item_no    category    main_promotion   color  stars\n",
       "0   405901  Sweatshirt           Catalog    Blue    3.1\n",
       "1   644275  Polo-Shirt  Frontpage_Header  Yellow    2.6\n",
       "2   533070       Tunic           Catalog   Green    2.7\n",
       "3   829436  Polo-Shirt           Catalog  Yellow    2.6\n",
       "4   801722       Tunic           Catalog  Yellow    4.9"
      ]
     },
     "execution_count": 120,
     "metadata": {},
     "output_type": "execute_result"
    }
   ],
   "source": [
    "test.head()"
   ]
  },
  {
   "cell_type": "code",
   "execution_count": null,
   "metadata": {
    "colab": {
     "base_uri": "https://localhost:8080/"
    },
    "id": "8b1IVrul56RA",
    "outputId": "407c9993-c8d2-4b86-cd40-12b2ab2f4458"
   },
   "outputs": [
    {
     "name": "stdout",
     "output_type": "stream",
     "text": [
      "<class 'pandas.core.frame.DataFrame'>\n",
      "RangeIndex: 8000 entries, 0 to 7999\n",
      "Data columns (total 6 columns):\n",
      " #   Column             Non-Null Count  Dtype  \n",
      "---  ------             --------------  -----  \n",
      " 0   item_no            8000 non-null   int64  \n",
      " 1   category           8000 non-null   object \n",
      " 2   main_promotion     8000 non-null   object \n",
      " 3   color              8000 non-null   object \n",
      " 4   stars              8000 non-null   float64\n",
      " 5   success_indicator  8000 non-null   object \n",
      "dtypes: float64(1), int64(1), object(4)\n",
      "memory usage: 375.1+ KB\n"
     ]
    }
   ],
   "source": [
    "train.info()"
   ]
  },
  {
   "cell_type": "code",
   "execution_count": null,
   "metadata": {
    "colab": {
     "base_uri": "https://localhost:8080/"
    },
    "id": "0WO5dppe6L7D",
    "outputId": "55460f12-0a85-45d8-fae9-65d9daa95a26"
   },
   "outputs": [
    {
     "data": {
      "text/plain": [
       "top     5185\n",
       "flop    2815\n",
       "Name: success_indicator, dtype: int64"
      ]
     },
     "execution_count": 6,
     "metadata": {},
     "output_type": "execute_result"
    }
   ],
   "source": [
    "#Class Label Distribution\n",
    "train['success_indicator'].value_counts()"
   ]
  },
  {
   "cell_type": "code",
   "execution_count": null,
   "metadata": {
    "id": "4tEIRgi88vgB"
   },
   "outputs": [],
   "source": [
    "def countplot(category, title= True, annot= True):\n",
    "  ax =sns.countplot(train[category])\n",
    "  count= 0.00\n",
    "  if annot:\n",
    "    for i in ax.patches:\n",
    "      plt.text(count, i.get_height(),str((i.get_height())),fontsize = 10, fontweight ='bold',color ='blue')\n",
    "      count+=1\n",
    "  if title:\n",
    "    plt.title(str(category)+\" Distribution\")\n",
    "  plt.xticks(rotation= 30)\n",
    "  plt.show()"
   ]
  },
  {
   "cell_type": "code",
   "execution_count": null,
   "metadata": {
    "colab": {
     "base_uri": "https://localhost:8080/",
     "height": 321
    },
    "id": "em0fFwj07Gbi",
    "outputId": "9e463f4b-f336-49ad-a5b0-b2c968edb1d5"
   },
   "outputs": [
    {
     "data": {
      "image/png": "[encoded data removed]",
      "text/plain": [
       "<Figure size 432x288 with 1 Axes>"
      ]
     },
     "metadata": {
      "needs_background": "light"
     },
     "output_type": "display_data"
    }
   ],
   "source": [
    "# Category types\n",
    "countplot('category', True, True)"
   ]
  },
  {
   "cell_type": "markdown",
   "metadata": {
    "id": "bSuilu5d8I_8"
   },
   "source": []
  },
  {
   "cell_type": "code",
   "execution_count": null,
   "metadata": {
    "colab": {
     "base_uri": "https://localhost:8080/",
     "height": 351
    },
    "id": "ZH8JpUjs8AJ9",
    "outputId": "ab11f19f-f628-4a63-a4d9-5669c4216e7c"
   },
   "outputs": [
    {
     "data": {
      "image/png": "[encoded data removed]",
      "text/plain": [
       "<Figure size 432x288 with 1 Axes>"
      ]
     },
     "metadata": {
      "needs_background": "light"
     },
     "output_type": "display_data"
    }
   ],
   "source": [
    "countplot('main_promotion', True, True)"
   ]
  },
  {
   "cell_type": "code",
   "execution_count": null,
   "metadata": {
    "colab": {
     "base_uri": "https://localhost:8080/",
     "height": 321
    },
    "id": "YiQOn7Wt8W0D",
    "outputId": "841249d6-b72f-4efa-b4d3-5523ae43126b"
   },
   "outputs": [
    {
     "data": {
      "image/png": "[encoded data removed]",
      "text/plain": [
       "<Figure size 432x288 with 1 Axes>"
      ]
     },
     "metadata": {
      "needs_background": "light"
     },
     "output_type": "display_data"
    }
   ],
   "source": [
    "countplot('color', True, True)"
   ]
  },
  {
   "cell_type": "code",
   "execution_count": null,
   "metadata": {
    "colab": {
     "base_uri": "https://localhost:8080/",
     "height": 295
    },
    "id": "ffep5lF18qtV",
    "outputId": "a5191feb-b98d-4bb5-e83a-b53b21f09f52"
   },
   "outputs": [
    {
     "data": {
      "image/png": "[encoded data removed]",
      "text/plain": [
       "<Figure size 432x288 with 1 Axes>"
      ]
     },
     "metadata": {
      "needs_background": "light"
     },
     "output_type": "display_data"
    }
   ],
   "source": [
    "sns.distplot(train['stars'])\n",
    "plt.title('Star rating distribution')\n",
    "plt.show()"
   ]
  },
  {
   "cell_type": "markdown",
   "metadata": {
    "id": "3QgGMft7VlyN"
   },
   "source": [
    " In the above plot, star rating distribution is nearly normal distributed."
   ]
  },
  {
   "cell_type": "code",
   "execution_count": null,
   "metadata": {
    "colab": {
     "base_uri": "https://localhost:8080/"
    },
    "id": "wuM8aciBPfFS",
    "outputId": "f4695d69-d86a-4e81-ea6d-976d5c7d772d"
   },
   "outputs": [
    {
     "data": {
      "text/plain": [
       "category\n",
       "Blouse        3.831059\n",
       "Hoodie        3.401218\n",
       "Polo-Shirt    3.186805\n",
       "Sweatshirt    3.286176\n",
       "T-Shirt       3.763674\n",
       "Tunic         3.400242\n",
       "Name: stars, dtype: float64"
      ]
     },
     "execution_count": 12,
     "metadata": {},
     "output_type": "execute_result"
    }
   ],
   "source": [
    "#average rating for each product category\n",
    "(train.groupby('category')['stars'].mean())"
   ]
  },
  {
   "cell_type": "markdown",
   "metadata": {
    "id": "9BTAq22dVzt1"
   },
   "source": [
    "IN the above analysis , we can see that the average rating is almost same in all the categories. "
   ]
  },
  {
   "cell_type": "code",
   "execution_count": null,
   "metadata": {
    "colab": {
     "base_uri": "https://localhost:8080/",
     "height": 375
    },
    "id": "pKvQqzQ9R2MU",
    "outputId": "f339d9e0-fac7-4547-db4d-fd54416b13c1"
   },
   "outputs": [
    {
     "data": {
      "image/png": "[encoded data removed]",
      "text/plain": [
       "<Figure size 360x360 with 1 Axes>"
      ]
     },
     "metadata": {
      "needs_background": "light"
     },
     "output_type": "display_data"
    }
   ],
   "source": [
    "## top flop with color\n",
    "plt.figure(figsize=(5,5))\n",
    "sns.countplot(x=train['color'], hue= train['success_indicator'])\n",
    "plt.title(\"Color vs Succes indicator\")\n",
    "plt.xticks(rotation=30)\n",
    "plt.show()"
   ]
  },
  {
   "cell_type": "code",
   "execution_count": null,
   "metadata": {
    "colab": {
     "base_uri": "https://localhost:8080/"
    },
    "id": "CVc56wF9Q3dD",
    "outputId": "9766045a-1be2-4f14-e1c2-227ec629e3a5"
   },
   "outputs": [
    {
     "data": {
      "text/plain": [
       "category\n",
       "Blouse               ([Blue], [354])\n",
       "Hoodie             ([Yellow], [130])\n",
       "Polo-Shirt         ([Yellow], [345])\n",
       "Sweatshirt         ([Orange], [248])\n",
       "T-Shirt       ([Multi-Color], [388])\n",
       "Tunic         ([Multi-Color], [413])\n",
       "Name: color, dtype: object"
      ]
     },
     "execution_count": 56,
     "metadata": {},
     "output_type": "execute_result"
    }
   ],
   "source": [
    "# Top demanded colorrs in different categories\n",
    "import scipy\n",
    "(train.groupby('category')['color'].aggregate(scipy.stats.mode))"
   ]
  },
  {
   "cell_type": "code",
   "execution_count": null,
   "metadata": {
    "colab": {
     "base_uri": "https://localhost:8080/",
     "height": 295
    },
    "id": "wU2feZ8oKVnu",
    "outputId": "e26449ee-f116-4a11-8d30-bab7de3339f8"
   },
   "outputs": [
    {
     "data": {
      "image/png": "[encoded data removed]",
      "text/plain": [
       "<Figure size 432x288 with 1 Axes>"
      ]
     },
     "metadata": {
      "needs_background": "light"
     },
     "output_type": "display_data"
    }
   ],
   "source": [
    "sns.distplot(train[train['success_indicator']=='top']['stars'], label= 'top_star_rating_dist')\n",
    "sns.distplot(train[train['success_indicator']=='flop']['stars'], label= 'flop_star_rating_dist')\n",
    "plt.title(\"star rating vs success indicator\")\n",
    "plt.legend()\n",
    "plt.show()\n"
   ]
  },
  {
   "cell_type": "markdown",
   "metadata": {
    "id": "plEFxauqLFAe"
   },
   "source": [
    "In the above plot, we can see that the distributions of stars for top and flop labels are overlapping, we can create a feature of overlap."
   ]
  },
  {
   "cell_type": "code",
   "execution_count": null,
   "metadata": {
    "colab": {
     "base_uri": "https://localhost:8080/"
    },
    "id": "HO1z028mfwy7",
    "outputId": "3f44585a-fa31-46fc-cc30-1432b9c65bf0"
   },
   "outputs": [
    {
     "data": {
      "text/plain": [
       "main_promotion\n",
       "Catalog                3.289537\n",
       "Category_Highlight     3.374877\n",
       "Display_Ad_Campaign    3.963636\n",
       "Frontpage_Header       3.477496\n",
       "Name: stars, dtype: float64"
      ]
     },
     "execution_count": 131,
     "metadata": {},
     "output_type": "execute_result"
    }
   ],
   "source": [
    "train.groupby('main_promotion')['stars'].mean()"
   ]
  },
  {
   "cell_type": "code",
   "execution_count": null,
   "metadata": {
    "colab": {
     "base_uri": "https://localhost:8080/"
    },
    "id": "WuzN0X7hUF-A",
    "outputId": "8a73f0cd-41e4-41b5-d10b-664370468edb"
   },
   "outputs": [
    {
     "data": {
      "text/plain": [
       "[{('Blouse', 'Blue'): 1},\n",
       " {('Blouse', 'Multi-Color'): 2},\n",
       " {('Blouse', 'Black'): 3},\n",
       " {('Blouse', 'Red'): 4},\n",
       " {('Blouse', 'Yellow'): 5},\n",
       " {('Blouse', 'Brown'): 6},\n",
       " {('Blouse', 'White'): 7},\n",
       " {('Blouse', 'Green'): 8},\n",
       " {('Blouse', 'Orange'): 9},\n",
       " {('Blouse', 'Pink'): 10},\n",
       " {('Hoodie', 'Yellow'): 1},\n",
       " {('Hoodie', 'Orange'): 2},\n",
       " {('Hoodie', 'White'): 3},\n",
       " {('Hoodie', 'Green'): 4},\n",
       " {('Hoodie', 'Pink'): 5},\n",
       " {('Hoodie', 'Blue'): 6},\n",
       " {('Hoodie', 'Multi-Color'): 7},\n",
       " {('Hoodie', 'Brown'): 8},\n",
       " {('Hoodie', 'Red'): 9},\n",
       " {('Hoodie', 'Black'): 10},\n",
       " {('Polo-Shirt', 'Yellow'): 1},\n",
       " {('Polo-Shirt', 'Multi-Color'): 2},\n",
       " {('Polo-Shirt', 'Brown'): 3},\n",
       " {('Polo-Shirt', 'Blue'): 4},\n",
       " {('Polo-Shirt', 'Pink'): 5},\n",
       " {('Polo-Shirt', 'Orange'): 6},\n",
       " {('Polo-Shirt', 'Green'): 7},\n",
       " {('Polo-Shirt', 'White'): 8},\n",
       " {('Polo-Shirt', 'Red'): 9},\n",
       " {('Polo-Shirt', 'Black'): 10},\n",
       " {('Sweatshirt', 'Orange'): 1},\n",
       " {('Sweatshirt', 'Blue'): 2},\n",
       " {('Sweatshirt', 'Red'): 3},\n",
       " {('Sweatshirt', 'Multi-Color'): 4},\n",
       " {('Sweatshirt', 'Black'): 5},\n",
       " {('Sweatshirt', 'Pink'): 6},\n",
       " {('Sweatshirt', 'Green'): 7},\n",
       " {('Sweatshirt', 'Yellow'): 8},\n",
       " {('Sweatshirt', 'White'): 9},\n",
       " {('Sweatshirt', 'Brown'): 10},\n",
       " {('T-Shirt', 'Multi-Color'): 1},\n",
       " {('T-Shirt', 'Black'): 2},\n",
       " {('T-Shirt', 'Yellow'): 3},\n",
       " {('T-Shirt', 'Blue'): 4},\n",
       " {('T-Shirt', 'Red'): 5},\n",
       " {('T-Shirt', 'Green'): 6},\n",
       " {('T-Shirt', 'Pink'): 7},\n",
       " {('T-Shirt', 'Brown'): 8},\n",
       " {('T-Shirt', 'Orange'): 9},\n",
       " {('T-Shirt', 'White'): 10},\n",
       " {('Tunic', 'Multi-Color'): 1},\n",
       " {('Tunic', 'Green'): 2},\n",
       " {('Tunic', 'Blue'): 3},\n",
       " {('Tunic', 'Brown'): 4},\n",
       " {('Tunic', 'Yellow'): 5},\n",
       " {('Tunic', 'Black'): 6},\n",
       " {('Tunic', 'Red'): 7},\n",
       " {('Tunic', 'White'): 8},\n",
       " {('Tunic', 'Pink'): 9},\n",
       " {('Tunic', 'Orange'): 10}]"
      ]
     },
     "execution_count": 41,
     "metadata": {},
     "output_type": "execute_result"
    }
   ],
   "source": [
    "# Ranking categories acc to color most chosen,\n",
    "ranks_dict = [{i:n%10 + 1} for n,i in enumerate(train.groupby('category')['color'].value_counts().keys())]\n",
    "(ranks_dict)"
   ]
  },
  {
   "cell_type": "code",
   "execution_count": null,
   "metadata": {
    "colab": {
     "base_uri": "https://localhost:8080/"
    },
    "id": "49lsf3UgRUKK",
    "outputId": "f5f54a40-3fb9-432c-8af6-16ced4863249"
   },
   "outputs": [
    {
     "name": "stdout",
     "output_type": "stream",
     "text": [
      "Training Data Shape  (6400, 4) (6400,)\n",
      "CV Data Shape  (1600, 4) (1600,)\n",
      "Testing Data Shape  (2000, 4)\n"
     ]
    }
   ],
   "source": [
    "\n",
    "#train_test_split (80%train, 20% CV)\n",
    "x_train, x_cv, y_train, y_cv = train_test_split(train.drop(['item_no','success_indicator'], axis=1), train['success_indicator'], test_size= 0.2, shuffle= train['success_indicator'], random_state=42)\n",
    "print(\"Training Data Shape \", x_train.shape, y_train.shape)\n",
    "print(\"CV Data Shape \", x_cv.shape, y_cv.shape)\n",
    "\n",
    "## testing Data\n",
    "x_test = test.drop(['item_no'], axis=1)\n",
    "print(\"Testing Data Shape \", x_test.shape )"
   ]
  },
  {
   "cell_type": "markdown",
   "metadata": {
    "id": "AMHym-WqUqA4"
   },
   "source": [
    "## Feature Engineering"
   ]
  },
  {
   "cell_type": "code",
   "execution_count": null,
   "metadata": {
    "colab": {
     "base_uri": "https://localhost:8080/",
     "height": 206
    },
    "id": "qV0_nKngL8Bd",
    "outputId": "7f7a1601-70f4-42db-8614-de7d736f5798"
   },
   "outputs": [
    {
     "data": {
      "text/html": [
       "<div>\n",
       "<style scoped>\n",
       "    .dataframe tbody tr th:only-of-type {\n",
       "        vertical-align: middle;\n",
       "    }\n",
       "\n",
       "    .dataframe tbody tr th {\n",
       "        vertical-align: top;\n",
       "    }\n",
       "\n",
       "    .dataframe thead th {\n",
       "        text-align: right;\n",
       "    }\n",
       "</style>\n",
       "<table border=\"1\" class=\"dataframe\">\n",
       "  <thead>\n",
       "    <tr style=\"text-align: right;\">\n",
       "      <th></th>\n",
       "      <th>item_no</th>\n",
       "      <th>category</th>\n",
       "      <th>main_promotion</th>\n",
       "      <th>color</th>\n",
       "      <th>stars</th>\n",
       "      <th>success_indicator</th>\n",
       "      <th>color_category_rank</th>\n",
       "    </tr>\n",
       "  </thead>\n",
       "  <tbody>\n",
       "    <tr>\n",
       "      <th>0</th>\n",
       "      <td>739157</td>\n",
       "      <td>Tunic</td>\n",
       "      <td>Catalog</td>\n",
       "      <td>Green</td>\n",
       "      <td>3.1</td>\n",
       "      <td>flop</td>\n",
       "      <td>2</td>\n",
       "    </tr>\n",
       "    <tr>\n",
       "      <th>1</th>\n",
       "      <td>591846</td>\n",
       "      <td>Hoodie</td>\n",
       "      <td>Category_Highlight</td>\n",
       "      <td>Red</td>\n",
       "      <td>1.5</td>\n",
       "      <td>flop</td>\n",
       "      <td>9</td>\n",
       "    </tr>\n",
       "    <tr>\n",
       "      <th>2</th>\n",
       "      <td>337574</td>\n",
       "      <td>Sweatshirt</td>\n",
       "      <td>Catalog</td>\n",
       "      <td>Red</td>\n",
       "      <td>4.4</td>\n",
       "      <td>top</td>\n",
       "      <td>3</td>\n",
       "    </tr>\n",
       "    <tr>\n",
       "      <th>3</th>\n",
       "      <td>401933</td>\n",
       "      <td>Polo-Shirt</td>\n",
       "      <td>Category_Highlight</td>\n",
       "      <td>Blue</td>\n",
       "      <td>3.1</td>\n",
       "      <td>flop</td>\n",
       "      <td>4</td>\n",
       "    </tr>\n",
       "    <tr>\n",
       "      <th>4</th>\n",
       "      <td>812151</td>\n",
       "      <td>Hoodie</td>\n",
       "      <td>Category_Highlight</td>\n",
       "      <td>Green</td>\n",
       "      <td>4.1</td>\n",
       "      <td>top</td>\n",
       "      <td>4</td>\n",
       "    </tr>\n",
       "  </tbody>\n",
       "</table>\n",
       "</div>"
      ],
      "text/plain": [
       "   item_no    category  ... success_indicator color_category_rank\n",
       "0   739157       Tunic  ...              flop                   2\n",
       "1   591846      Hoodie  ...              flop                   9\n",
       "2   337574  Sweatshirt  ...               top                   3\n",
       "3   401933  Polo-Shirt  ...              flop                   4\n",
       "4   812151      Hoodie  ...               top                   4\n",
       "\n",
       "[5 rows x 7 columns]"
      ]
     },
     "execution_count": 122,
     "metadata": {},
     "output_type": "execute_result"
    }
   ],
   "source": [
    "## Adding more features to train and test data\n",
    "\n",
    "train_FE = train.copy()\n",
    "test_FE = test.copy()\n",
    "\n",
    "ranking_dict = {}\n",
    "for i in range(len(ranks_dict)):\n",
    "  ranking_dict[['_'.join(i) for i in ranks_dict[i].keys()][0]] = list(ranks_dict[i].values())[0]\n",
    "\n",
    "train_FE['color_category_rank'] = train_FE['category']+ '_' + train_FE['color']\n",
    "test_FE['color_category_rank'] = test_FE['category'] + '_' + test_FE['color']\n",
    "\n",
    "train_FE['color_category_rank'] = train_FE['color_category_rank'].apply(lambda x:ranking_dict.get(x))\n",
    "test_FE['color_category_rank'] = test_FE['color_category_rank'].apply(lambda x:ranking_dict.get(x))\n",
    "train_FE.head()"
   ]
  }
 ],
 "metadata": {
  "colab": {
   "collapsed_sections": [],
   "name": "PredictiveModelDSW.ipynb",
   "provenance": []
  },
  "kernelspec": {
   "display_name": "Python 3",
   "language": "python",
   "name": "python3"
  },
  "language_info": {
   "codemirror_mode": {
    "name": "ipython",
    "version": 3
   },
   "file_extension": ".py",
   "mimetype": "text/x-python",
   "name": "python",
   "nbconvert_exporter": "python",
   "pygments_lexer": "ipython3",
   "version": "3.8.8"
  },
  "toc": {
   "base_numbering": 1,
   "nav_menu": {},
   "number_sections": true,
   "sideBar": true,
   "skip_h1_title": false,
   "title_cell": "Table of Contents",
   "title_sidebar": "Contents",
   "toc_cell": false,
   "toc_position": {},
   "toc_section_display": true,
   "toc_window_display": false
  },
  "varInspector": {
   "cols": {
    "lenName": 16,
    "lenType": 16,
    "lenVar": 40
   },
   "kernels_config": {
    "python": {
     "delete_cmd_postfix": "",
     "delete_cmd_prefix": "del ",
     "library": "var_list.py",
     "varRefreshCmd": "print(var_dic_list())"
    },
    "r": {
     "delete_cmd_postfix": ") ",
     "delete_cmd_prefix": "rm(",
     "library": "var_list.r",
     "varRefreshCmd": "cat(var_dic_list()) "
    }
   },
   "types_to_exclude": [
    "module",
    "function",
    "builtin_function_or_method",
    "instance",
    "_Feature"
   ],
   "window_display": false
  }
 },
 "nbformat": 4,
 "nbformat_minor": 1
}
